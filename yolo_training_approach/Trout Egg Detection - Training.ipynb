{
 "cells": [
  {
   "cell_type": "code",
   "execution_count": null,
   "metadata": {
    "executionInfo": {
     "elapsed": 96271,
     "status": "ok",
     "timestamp": 1742944528892,
     "user": {
      "displayName": "Sifat Sikder",
      "userId": "08128310336745024310"
     },
     "user_tz": -360
    },
    "id": "INLhbVCdfKaE"
   },
   "outputs": [],
   "source": [
    "%%capture\n",
    "!pip install ultralytics"
   ]
  },
  {
   "cell_type": "code",
   "execution_count": null,
   "metadata": {
    "colab": {
     "base_uri": "https://localhost:8080/"
    },
    "executionInfo": {
     "elapsed": 179537,
     "status": "ok",
     "timestamp": 1742944749903,
     "user": {
      "displayName": "Sifat Sikder",
      "userId": "08128310336745024310"
     },
     "user_tz": -360
    },
    "id": "Km0MxO-OfShm",
    "outputId": "e78d9ff6-2e28-43af-d198-2cb9befddc37"
   },
   "outputs": [],
   "source": [
    "import os\n",
    "from ultralytics import YOLO\n",
    "model = YOLO('yolo11n.pt')\n",
    "model.train(data=f'{os.getcwd()}/dataset/config.yaml', epochs=50)"
   ]
  }
 ],
 "metadata": {
  "accelerator": "GPU",
  "colab": {
   "authorship_tag": "ABX9TyPmvXCjY8D26lUaGrD7ewf2",
   "gpuType": "T4",
   "provenance": []
  },
  "kernelspec": {
   "display_name": "Python 3",
   "name": "python3"
  },
  "language_info": {
   "codemirror_mode": {
    "name": "ipython",
    "version": 3
   },
   "file_extension": ".py",
   "mimetype": "text/x-python",
   "name": "python",
   "nbconvert_exporter": "python",
   "pygments_lexer": "ipython3",
   "version": "3.12.0"
  }
 },
 "nbformat": 4,
 "nbformat_minor": 0
}
