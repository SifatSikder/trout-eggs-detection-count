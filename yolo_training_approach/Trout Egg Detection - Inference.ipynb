{
 "cells": [
  {
   "cell_type": "code",
   "execution_count": null,
   "metadata": {},
   "outputs": [],
   "source": [
    "%%capture\n",
    "!pip install ultralytics"
   ]
  },
  {
   "cell_type": "code",
   "execution_count": 7,
   "metadata": {
    "colab": {
     "base_uri": "https://localhost:8080/"
    },
    "executionInfo": {
     "elapsed": 1548,
     "status": "ok",
     "timestamp": 1742944751447,
     "user": {
      "displayName": "Sifat Sikder",
      "userId": "08128310336745024310"
     },
     "user_tz": -360
    },
    "id": "T4lXGPi6h7s8",
    "outputId": "63f79954-64c3-4c93-8fbd-e1cd84cc9c41"
   },
   "outputs": [
    {
     "name": "stdout",
     "output_type": "stream",
     "text": [
      "\n",
      "image 1/1 f:\\Job\\D-ready\\trout-eggs-detection-count\\yolo_training_approach\\trout_egg.jpg: 640x640 143 Eggss, 482.7ms\n",
      "Speed: 54.2ms preprocess, 482.7ms inference, 2.0ms postprocess per image at shape (1, 3, 640, 640)\n"
     ]
    }
   ],
   "source": [
    "from ultralytics import YOLO\n",
    "model = YOLO('model/weights/best.pt')\n",
    "image_path = 'trout_egg.jpg'\n",
    "results = model.predict(source=image_path)"
   ]
  },
  {
   "cell_type": "code",
   "execution_count": 8,
   "metadata": {
    "id": "GiyqpSBshssz"
   },
   "outputs": [],
   "source": [
    "eggs = []\n",
    "for box in results[0].boxes:\n",
    "    confidence = float(box.conf)\n",
    "    eggs.append({'bbox': box.xyxy[0],'confidence': confidence})"
   ]
  },
  {
   "cell_type": "code",
   "execution_count": 9,
   "metadata": {},
   "outputs": [
    {
     "name": "stdout",
     "output_type": "stream",
     "text": [
      "Number of eggs detected: 100\n"
     ]
    },
    {
     "data": {
      "text/plain": [
       "True"
      ]
     },
     "execution_count": 9,
     "metadata": {},
     "output_type": "execute_result"
    }
   ],
   "source": [
    "import cv2\n",
    "confidence = 0.68 # this confidence is the threshold for the correct detection of the eggs\n",
    "print(\"Number of eggs detected: \"+str(len([egg for egg in eggs if egg[\"confidence\"] > confidence])))\n",
    "image = cv2.imread(image_path)\n",
    "for idx, egg in enumerate(eggs, start=1):\n",
    "    if egg['confidence'] > confidence:\n",
    "        x1, y1, x2, y2 = map(int, egg['bbox'])\n",
    "        cv2.rectangle(image, (x1, y1), (x2, y2), (255, 0, 0), 2)\n",
    "        # cv2.putText(image, str(idx), (x1, y1 - 5), cv2.FONT_HERSHEY_SIMPLEX, 0.7, (255, 0, 0), 2)\n",
    "\n",
    "cv2.imwrite(\"Final Result.png\", image)"
   ]
  }
 ],
 "metadata": {
  "accelerator": "GPU",
  "colab": {
   "authorship_tag": "ABX9TyPmvXCjY8D26lUaGrD7ewf2",
   "gpuType": "T4",
   "provenance": []
  },
  "kernelspec": {
   "display_name": "Python 3",
   "name": "python3"
  },
  "language_info": {
   "codemirror_mode": {
    "name": "ipython",
    "version": 3
   },
   "file_extension": ".py",
   "mimetype": "text/x-python",
   "name": "python",
   "nbconvert_exporter": "python",
   "pygments_lexer": "ipython3",
   "version": "3.12.0"
  }
 },
 "nbformat": 4,
 "nbformat_minor": 0
}
